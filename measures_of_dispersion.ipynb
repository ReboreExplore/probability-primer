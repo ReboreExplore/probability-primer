{
 "cells": [
  {
   "cell_type": "code",
   "execution_count": 1,
   "id": "f2a39f73",
   "metadata": {},
   "outputs": [],
   "source": [
    "import numpy as np"
   ]
  },
  {
   "cell_type": "code",
   "execution_count": 2,
   "id": "b819b64b",
   "metadata": {},
   "outputs": [],
   "source": [
    "probs = np.array([1/6] * 6)"
   ]
  },
  {
   "cell_type": "code",
   "execution_count": 3,
   "id": "1cfb8dc5",
   "metadata": {},
   "outputs": [
    {
     "data": {
      "text/plain": [
       "array([0.16666667, 0.16666667, 0.16666667, 0.16666667, 0.16666667,\n",
       "       0.16666667])"
      ]
     },
     "execution_count": 3,
     "metadata": {},
     "output_type": "execute_result"
    }
   ],
   "source": [
    "probs"
   ]
  },
  {
   "cell_type": "code",
   "execution_count": 4,
   "id": "3a570921",
   "metadata": {},
   "outputs": [],
   "source": [
    "rand_x = np.arange(1, 7)"
   ]
  },
  {
   "cell_type": "code",
   "execution_count": 5,
   "id": "a98fa57a",
   "metadata": {},
   "outputs": [
    {
     "data": {
      "text/plain": [
       "array([1, 2, 3, 4, 5, 6])"
      ]
     },
     "execution_count": 5,
     "metadata": {},
     "output_type": "execute_result"
    }
   ],
   "source": [
    "rand_x"
   ]
  },
  {
   "cell_type": "code",
   "execution_count": 8,
   "id": "9be24440",
   "metadata": {},
   "outputs": [],
   "source": [
    "mu = np.sum(probs * rand_x)"
   ]
  },
  {
   "cell_type": "code",
   "execution_count": 9,
   "id": "587417b9",
   "metadata": {},
   "outputs": [
    {
     "data": {
      "text/plain": [
       "3.5"
      ]
     },
     "execution_count": 9,
     "metadata": {},
     "output_type": "execute_result"
    }
   ],
   "source": [
    "mu"
   ]
  },
  {
   "cell_type": "code",
   "execution_count": 10,
   "id": "20be21ca",
   "metadata": {},
   "outputs": [],
   "source": [
    "x_minus_mu = np.sum((rand_x - mu) * probs)"
   ]
  },
  {
   "cell_type": "code",
   "execution_count": 12,
   "id": "82ddd4e5",
   "metadata": {},
   "outputs": [],
   "source": [
    "assert x_minus_mu == 0"
   ]
  },
  {
   "cell_type": "code",
   "execution_count": 13,
   "id": "c52caacc",
   "metadata": {},
   "outputs": [],
   "source": [
    "mad = np.sum(np.abs(rand_x - mu) * probs)"
   ]
  },
  {
   "cell_type": "code",
   "execution_count": 14,
   "id": "a68bab18",
   "metadata": {},
   "outputs": [
    {
     "data": {
      "text/plain": [
       "1.5"
      ]
     },
     "execution_count": 14,
     "metadata": {},
     "output_type": "execute_result"
    }
   ],
   "source": [
    "mad"
   ]
  },
  {
   "cell_type": "code",
   "execution_count": 16,
   "id": "a73bbbb2",
   "metadata": {},
   "outputs": [],
   "source": [
    "variance = np.sum(np.power((rand_x - mu), 2) * probs) "
   ]
  },
  {
   "cell_type": "code",
   "execution_count": 17,
   "id": "d0590412",
   "metadata": {},
   "outputs": [
    {
     "data": {
      "text/plain": [
       "2.9166666666666665"
      ]
     },
     "execution_count": 17,
     "metadata": {},
     "output_type": "execute_result"
    }
   ],
   "source": [
    "variance"
   ]
  },
  {
   "cell_type": "code",
   "execution_count": 18,
   "id": "b7cd8c21",
   "metadata": {},
   "outputs": [],
   "source": [
    "std_dev = np.sqrt(variance)"
   ]
  },
  {
   "cell_type": "code",
   "execution_count": 19,
   "id": "8dcfb182",
   "metadata": {},
   "outputs": [
    {
     "data": {
      "text/plain": [
       "1.707825127659933"
      ]
     },
     "execution_count": 19,
     "metadata": {},
     "output_type": "execute_result"
    }
   ],
   "source": [
    "std_dev"
   ]
  },
  {
   "cell_type": "code",
   "execution_count": null,
   "id": "248a5e78",
   "metadata": {},
   "outputs": [],
   "source": []
  }
 ],
 "metadata": {
  "kernelspec": {
   "display_name": "Python 3",
   "language": "python",
   "name": "python3"
  },
  "language_info": {
   "codemirror_mode": {
    "name": "ipython",
    "version": 3
   },
   "file_extension": ".py",
   "mimetype": "text/x-python",
   "name": "python",
   "nbconvert_exporter": "python",
   "pygments_lexer": "ipython3",
   "version": "3.8.8"
  }
 },
 "nbformat": 4,
 "nbformat_minor": 5
}
