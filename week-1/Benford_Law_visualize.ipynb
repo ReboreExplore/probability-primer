{
  "nbformat": 4,
  "nbformat_minor": 0,
  "metadata": {
    "colab": {
      "name": "Benford Law visualize.ipynb",
      "provenance": [],
      "authorship_tag": "ABX9TyMArYi+EzkANmnYpLBIZv6w",
      "include_colab_link": true
    },
    "kernelspec": {
      "name": "python3",
      "display_name": "Python 3"
    },
    "language_info": {
      "name": "python"
    }
  },
  "cells": [
    {
      "cell_type": "markdown",
      "metadata": {
        "id": "view-in-github",
        "colab_type": "text"
      },
      "source": [
        "<a href=\"https://colab.research.google.com/github/ReboreExplore/probability-primer/blob/main/Benford_Law_visualize.ipynb\" target=\"_parent\"><img src=\"https://colab.research.google.com/assets/colab-badge.svg\" alt=\"Open In Colab\"/></a>"
      ]
    },
    {
      "cell_type": "markdown",
      "metadata": {
        "id": "S-Ydh0n0DfjA"
      },
      "source": [
        "### Benford's Law verification"
      ]
    },
    {
      "cell_type": "markdown",
      "metadata": {
        "id": "-pvKFagfCtzh"
      },
      "source": [
        "This is noteboook we verify the Benford's law which give a percentage prediction for the first digit of any mass collected data to be 1 till 9 which is not equally likely.\n",
        "\n",
        "We have verified it with a Indian district wise population data census from 2001 and 2011. The data can be found here  - https://www.kaggle.com/sirpunch/indian-census-data-with-geospatial-indexing?select=district+wise+population+and+centroids.csv"
      ]
    },
    {
      "cell_type": "code",
      "metadata": {
        "id": "-njb1JKu0-PJ"
      },
      "source": [
        "# Imports\n",
        "import pandas as pd"
      ],
      "execution_count": null,
      "outputs": []
    },
    {
      "cell_type": "code",
      "metadata": {
        "id": "q0V9o3pq1USt"
      },
      "source": [
        "# Download the dataset and read the csv files within it\n",
        "df = pd.read_csv('/content/district wise population for year 2001 and 2011.csv')"
      ],
      "execution_count": null,
      "outputs": []
    },
    {
      "cell_type": "code",
      "metadata": {
        "id": "6JudR36M1aIV"
      },
      "source": [
        "# Visualize the dataframe\n",
        "print(df)"
      ],
      "execution_count": null,
      "outputs": []
    },
    {
      "cell_type": "code",
      "metadata": {
        "id": "nS385lUd3_jb"
      },
      "source": [
        "# Helper function to parse the first digit\n",
        "def parse_first_digit(num):\n",
        "  while(num>=10):\n",
        "    num = num//10\n",
        "  return num\n",
        "\n",
        "# Helper function to get the proportion of each first digit\n",
        "def list_perc(num_list):\n",
        "  res = 0\n",
        "  parsed_list = []\n",
        "  for i in range(1,10):\n",
        "    res = (len([ele for ele in num_list if ele == i]) / len(num_list))\n",
        "    parsed_list.append(res)\n",
        "  parsed_list = ['%.5f'% ele for ele in parsed_list]\n",
        "  return parsed_list"
      ],
      "execution_count": null,
      "outputs": []
    },
    {
      "cell_type": "code",
      "metadata": {
        "colab": {
          "base_uri": "https://localhost:8080/"
        },
        "id": "uoz-2EoJ1vSh",
        "outputId": "4d0be2cd-7495-4014-9eaf-8e44fae6e48a"
      },
      "source": [
        "num_list = []\n",
        "for i in range(len(df)):\n",
        "  num = df['Population in 2011'][i]\n",
        "  first_digit = parse_first_digit(num)\n",
        "  num_list.append(first_digit)\n",
        "parsed_list = list_perc(num_list)"
      ],
      "execution_count": null,
      "outputs": [
        {
          "output_type": "stream",
          "text": [
            "[3, 1, 2, 4, 4, 5, 4, 4, 4, 3, 2, 2, 4, 2, 3, 2, 2, 1, 8, 7, 9, 9, 1, 5, 8, 1, 4, 1, 3, 8, 8, 1, 9, 1, 7, 1, 4, 9, 6, 1, 1, 2, 1, 1, 6, 1, 1, 1, 9, 1, 8, 1, 9, 2, 7, 1, 1, 1, 8, 2, 7, 2, 2, 2, 3, 2, 1, 3, 4, 2, 1, 1, 1, 3, 1, 1, 1, 2, 4, 1, 4, 2, 2, 3, 5, 5, 3, 2, 1, 4, 3, 6, 6, 3, 3, 2, 3, 1, 1, 2, 2, 5, 7, 3, 1, 8, 8, 1, 6, 1, 1, 1, 4, 1, 2, 7, 3, 1, 5, 5, 1, 1, 8, 2, 3, 2, 2, 2, 8, 6, 7, 1, 2, 3, 1, 2, 2, 1, 2, 2, 2, 2, 2, 5, 1, 2, 1, 5, 3, 2, 6, 1, 8, 2, 4, 1, 1, 1, 1, 9, 1, 1, 9, 1, 1, 1, 9, 9, 1, 1, 5, 1, 9, 1, 1, 1, 1, 3, 5, 4, 1, 8, 4, 3, 9, 8, 5, 5, 5, 1, 7, 3, 1, 4, 2, 1, 1, 6, 2, 4, 8, 1, 5, 4, 6, 2, 3, 3, 2, 1, 5, 2, 1, 1, 2, 1, 1, 2, 1, 1, 1, 7, 5, 7, 7, 4, 9, 1, 1, 2, 9, 2, 1, 1, 5, 1, 9, 9, 4, 2, 1, 2, 1, 1, 1, 1, 2, 1, 1, 1, 2, 1, 1, 5, 1, 1, 1, 3, 1, 1, 1, 2, 1, 1, 1, 2, 3, 1, 2, 1, 2, 1, 3, 4, 2, 1, 3, 3, 8, 6, 7, 7, 8, 1, 1, 1, 1, 2, 7, 1, 2, 1, 7, 1, 2, 7, 1, 2, 5, 1, 3, 2, 1, 1, 1, 1, 1, 1, 1, 1, 8, 1, 1, 1, 1, 2, 2, 2, 1, 1, 1, 1, 6, 1, 1, 1, 1, 1, 6, 1, 4, 1, 2, 3, 1, 2, 2, 2, 2, 1, 1, 1, 4, 1, 3, 2, 3, 9, 4, 3, 1, 6, 1, 1, 9, 2, 1, 2, 3, 8, 4, 1, 1, 1, 2, 2, 1, 2, 4, 5, 4, 1, 4, 1, 3, 8, 3, 2, 1, 6, 3, 4, 1, 8, 1, 1, 8, 5, 6, 3, 7, 2, 5, 1, 2, 9, 1, 1, 1, 1, 1, 1, 2, 1, 4, 1, 2, 3, 1, 5, 3, 1, 1, 5, 1, 7, 1, 1, 2, 1, 6, 2, 1, 9, 6, 1, 9, 1, 6, 2, 2, 4, 9, 5, 2, 5, 1, 6, 6, 2, 2, 1, 2, 8, 3, 7, 9, 9, 1, 6, 9, 1, 6, 1, 2, 3, 1, 1, 2, 2, 2, 2, 1, 1, 2, 1, 1, 1, 1, 1, 6, 6, 1, 1, 2, 3, 1, 1, 3, 2, 8, 1, 1, 2, 1, 1, 3, 2, 4, 1, 1, 7, 4, 3, 2, 1, 2, 2, 3, 1, 1, 1, 3, 1, 1, 5, 1, 1, 3, 1, 2, 1, 7, 3, 1, 1, 2, 3, 2, 2, 3, 3, 1, 2, 3, 3, 2, 4, 3, 3, 2, 5, 3, 3, 6, 8, 1, 4, 3, 5, 2, 1, 1, 4, 1, 3, 3, 2, 1, 3, 4, 2, 3, 3, 3, 1, 9, 3, 1, 1, 2, 1, 2, 2, 1, 4, 3, 3, 4, 1, 4, 1, 1, 4, 1, 1, 1, 4, 1, 1, 4, 3, 1, 4, 8, 2, 1, 2, 2, 3, 2, 4, 4, 2, 3, 3, 2, 3, 1, 1, 3, 1, 2, 4, 1, 3, 3, 3, 6, 2, 3, 2, 1, 6, 1, 9, 4, 2, 6, 1, 3, 3, 7, 3, 1, 1, 4, 5, 3, 2, 4, 3, 7, 5, 1, 5, 5, 2, 8, 3]\n",
            "640\n"
          ],
          "name": "stdout"
        }
      ]
    },
    {
      "cell_type": "code",
      "metadata": {
        "id": "dTq0lQt84oIt"
      },
      "source": [
        "Benford = [0.30103,0.17609,0.12493,0.09691,0.07918,0.06694,0.05799,0.05115,0.04575]"
      ],
      "execution_count": null,
      "outputs": []
    },
    {
      "cell_type": "code",
      "metadata": {
        "id": "t207TrYvBNdd"
      },
      "source": [
        "my_dict = {'Parsed Proportion':parsed_list,'Benford Proportion':Benford}"
      ],
      "execution_count": null,
      "outputs": []
    },
    {
      "cell_type": "code",
      "metadata": {
        "colab": {
          "base_uri": "https://localhost:8080/",
          "height": 328
        },
        "id": "Ls6mC9MzBDsU",
        "outputId": "4552e096-0afb-4f23-c67a-d71c61bf9612"
      },
      "source": [
        "# Visualize the data proportions with Benford's\n",
        "new_df = pd.DataFrame(my_dict,columns=['Parsed Proportion','Benford Proportion'])\n",
        "new_df"
      ],
      "execution_count": null,
      "outputs": [
        {
          "output_type": "execute_result",
          "data": {
            "text/html": [
              "<div>\n",
              "<style scoped>\n",
              "    .dataframe tbody tr th:only-of-type {\n",
              "        vertical-align: middle;\n",
              "    }\n",
              "\n",
              "    .dataframe tbody tr th {\n",
              "        vertical-align: top;\n",
              "    }\n",
              "\n",
              "    .dataframe thead th {\n",
              "        text-align: right;\n",
              "    }\n",
              "</style>\n",
              "<table border=\"1\" class=\"dataframe\">\n",
              "  <thead>\n",
              "    <tr style=\"text-align: right;\">\n",
              "      <th></th>\n",
              "      <th>Parsed Proportion</th>\n",
              "      <th>Benford Proportion</th>\n",
              "    </tr>\n",
              "  </thead>\n",
              "  <tbody>\n",
              "    <tr>\n",
              "      <th>0</th>\n",
              "      <td>0.37656</td>\n",
              "      <td>0.30103</td>\n",
              "    </tr>\n",
              "    <tr>\n",
              "      <th>1</th>\n",
              "      <td>0.19531</td>\n",
              "      <td>0.17609</td>\n",
              "    </tr>\n",
              "    <tr>\n",
              "      <th>2</th>\n",
              "      <td>0.13281</td>\n",
              "      <td>0.12493</td>\n",
              "    </tr>\n",
              "    <tr>\n",
              "      <th>3</th>\n",
              "      <td>0.07969</td>\n",
              "      <td>0.09691</td>\n",
              "    </tr>\n",
              "    <tr>\n",
              "      <th>4</th>\n",
              "      <td>0.05312</td>\n",
              "      <td>0.07918</td>\n",
              "    </tr>\n",
              "    <tr>\n",
              "      <th>5</th>\n",
              "      <td>0.04375</td>\n",
              "      <td>0.06694</td>\n",
              "    </tr>\n",
              "    <tr>\n",
              "      <th>6</th>\n",
              "      <td>0.03594</td>\n",
              "      <td>0.05799</td>\n",
              "    </tr>\n",
              "    <tr>\n",
              "      <th>7</th>\n",
              "      <td>0.04063</td>\n",
              "      <td>0.05115</td>\n",
              "    </tr>\n",
              "    <tr>\n",
              "      <th>8</th>\n",
              "      <td>0.04219</td>\n",
              "      <td>0.04575</td>\n",
              "    </tr>\n",
              "  </tbody>\n",
              "</table>\n",
              "</div>"
            ],
            "text/plain": [
              "  Parsed Proportion  Benford Proportion\n",
              "0           0.37656             0.30103\n",
              "1           0.19531             0.17609\n",
              "2           0.13281             0.12493\n",
              "3           0.07969             0.09691\n",
              "4           0.05312             0.07918\n",
              "5           0.04375             0.06694\n",
              "6           0.03594             0.05799\n",
              "7           0.04063             0.05115\n",
              "8           0.04219             0.04575"
            ]
          },
          "metadata": {},
          "execution_count": 65
        }
      ]
    }
  ]
}